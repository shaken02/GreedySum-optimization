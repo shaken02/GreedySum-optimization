{
 "cells": [
  {
   "cell_type": "markdown",
   "id": "cda02925-1b45-463a-aba2-cac34808cb42",
   "metadata": {},
   "source": [
    "## All imports"
   ]
  },
  {
   "cell_type": "code",
   "execution_count": 1,
   "id": "9ada9558-5f38-40d1-a999-414f3c6c2546",
   "metadata": {
    "execution": {
     "iopub.execute_input": "2024-03-19T11:58:22.822619Z",
     "iopub.status.busy": "2024-03-19T11:58:22.822491Z",
     "iopub.status.idle": "2024-03-19T11:58:25.001653Z",
     "shell.execute_reply": "2024-03-19T11:58:25.001066Z",
     "shell.execute_reply.started": "2024-03-19T11:58:22.822576Z"
    }
   },
   "outputs": [
    {
     "name": "stderr",
     "output_type": "stream",
     "text": [
      "[nltk_data] Downloading package punkt to\n",
      "[nltk_data]     /home/sh.aubakirov/nltk_data...\n",
      "[nltk_data]   Package punkt is already up-to-date!\n"
     ]
    }
   ],
   "source": [
    "import pandas as pd\n",
    "import pandoc\n",
    "import pickle \n",
    "#import os\n",
    "import re\n",
    "from collections import Counter\n",
    "from collections import defaultdict\n",
    "import numpy as np\n",
    "from scipy.optimize import curve_fit\n",
    "import matplotlib.pyplot as plt\n",
    "#from sympy import symbols,Eq,solve\n",
    "#from scipy.spatial.distance import euclidean\n",
    "import nltk\n",
    "nltk.download('punkt')\n",
    "from nltk.tokenize import sent_tokenize\n",
    "#import spacy\n",
    "#nlp = spacy.load(\"en_core_web_sm\")\n",
    "from rouge_score import rouge_scorer\n",
    "from sklearn.linear_model import LinearRegression\n",
    "from sklearn.metrics import r2_score, mean_squared_error\n",
    "from sklearn.feature_extraction.text import TfidfVectorizer\n",
    "from scipy.stats import pearsonr\n",
    "import statsmodels.api as sm"
   ]
  },
  {
   "cell_type": "markdown",
   "id": "e1e7d4a4-c96b-49f6-bde8-2301cdb1bf5d",
   "metadata": {
    "execution": {
     "iopub.execute_input": "2024-03-19T11:23:23.331915Z",
     "iopub.status.busy": "2024-03-19T11:23:23.331342Z",
     "iopub.status.idle": "2024-03-19T11:23:23.334113Z",
     "shell.execute_reply": "2024-03-19T11:23:23.333650Z",
     "shell.execute_reply.started": "2024-03-19T11:23:23.331895Z"
    }
   },
   "source": [
    "## Dataset"
   ]
  },
  {
   "cell_type": "code",
   "execution_count": 2,
   "id": "2f7fce11-4d16-42a1-b976-3c9822de3032",
   "metadata": {
    "execution": {
     "iopub.execute_input": "2024-03-19T11:58:25.003268Z",
     "iopub.status.busy": "2024-03-19T11:58:25.002913Z",
     "iopub.status.idle": "2024-03-19T11:58:25.006559Z",
     "shell.execute_reply": "2024-03-19T11:58:25.006067Z",
     "shell.execute_reply.started": "2024-03-19T11:58:25.003250Z"
    }
   },
   "outputs": [],
   "source": [
    "def load_obj(name):  #for a sample dataset of 376 article texts\n",
    "    with open(name + '.pkl', 'rb') as f:\n",
    "        return pickle.load(f)\n",
    "\n",
    "def convert_string_to_list(string):  # for dataset of 17038 article texts\n",
    "    try:\n",
    "        return ast.literal_eval(string)\n",
    "    except ValueError:\n",
    "        # In case of error, return the original string\n",
    "        return string"
   ]
  },
  {
   "cell_type": "code",
   "execution_count": 3,
   "id": "e27ae4f8-e405-419d-a94f-5a1f7d34e1c9",
   "metadata": {
    "execution": {
     "iopub.execute_input": "2024-03-19T11:58:25.007256Z",
     "iopub.status.busy": "2024-03-19T11:58:25.007147Z",
     "iopub.status.idle": "2024-03-19T11:58:25.150163Z",
     "shell.execute_reply": "2024-03-19T11:58:25.149612Z",
     "shell.execute_reply.started": "2024-03-19T11:58:25.007242Z"
    },
    "scrolled": true
   },
   "outputs": [
    {
     "data": {
      "text/html": [
       "<div>\n",
       "<style scoped>\n",
       "    .dataframe tbody tr th:only-of-type {\n",
       "        vertical-align: middle;\n",
       "    }\n",
       "\n",
       "    .dataframe tbody tr th {\n",
       "        vertical-align: top;\n",
       "    }\n",
       "\n",
       "    .dataframe thead th {\n",
       "        text-align: right;\n",
       "    }\n",
       "</style>\n",
       "<table border=\"1\" class=\"dataframe\">\n",
       "  <thead>\n",
       "    <tr style=\"text-align: right;\">\n",
       "      <th></th>\n",
       "      <th>article_id</th>\n",
       "      <th>article_text</th>\n",
       "      <th>abstract_text</th>\n",
       "      <th>section_names</th>\n",
       "      <th>sections</th>\n",
       "      <th>len_text</th>\n",
       "      <th>len_abstract</th>\n",
       "      <th>opt_mindf</th>\n",
       "      <th>opt_mindf_r1</th>\n",
       "      <th>opt_maxdf</th>\n",
       "      <th>opt_maxdf_r1</th>\n",
       "    </tr>\n",
       "  </thead>\n",
       "  <tbody>\n",
       "    <tr>\n",
       "      <th>4741</th>\n",
       "      <td>1312.4941</td>\n",
       "      <td>[the effect of the background rotation on the ...</td>\n",
       "      <td>[we report results on the geometrical statisti...</td>\n",
       "      <td>[introduction, theoretical background on the g...</td>\n",
       "      <td>[[the effect of the background rotation on the...</td>\n",
       "      <td>285</td>\n",
       "      <td>11</td>\n",
       "      <td>0.008</td>\n",
       "      <td>0.547847</td>\n",
       "      <td>0.018</td>\n",
       "      <td>0.427984</td>\n",
       "    </tr>\n",
       "    <tr>\n",
       "      <th>4426</th>\n",
       "      <td>astro-ph0308422</td>\n",
       "      <td>[a standard picture of the crab nebula was giv...</td>\n",
       "      <td>[an axisymmetric model for the crab nebula is ...</td>\n",
       "      <td>[introduction, a 3d model, reproduction of the...</td>\n",
       "      <td>[[a standard picture of the crab nebula was gi...</td>\n",
       "      <td>145</td>\n",
       "      <td>11</td>\n",
       "      <td>0.049</td>\n",
       "      <td>0.502655</td>\n",
       "      <td>0.607</td>\n",
       "      <td>0.386803</td>\n",
       "    </tr>\n",
       "    <tr>\n",
       "      <th>737</th>\n",
       "      <td>astro-ph9803257</td>\n",
       "      <td>[the lyman alpha ( ly@xmath1 )  forest \" ( @xc...</td>\n",
       "      <td>[we present a systematic search for ovi(1032,1...</td>\n",
       "      <td>[introduction, modeling the lyman alpha forest...</td>\n",
       "      <td>[[the lyman alpha ( ly@xmath1 )  forest \" ( @x...</td>\n",
       "      <td>435</td>\n",
       "      <td>10</td>\n",
       "      <td>0.049</td>\n",
       "      <td>0.526432</td>\n",
       "      <td>0.046</td>\n",
       "      <td>0.408517</td>\n",
       "    </tr>\n",
       "    <tr>\n",
       "      <th>3132</th>\n",
       "      <td>1212.6057</td>\n",
       "      <td>[lithium is one of a few key chemical elements...</td>\n",
       "      <td>[lithium in the atmosphere of a f or g supergi...</td>\n",
       "      <td>[introduction, comparison with theoretical pre...</td>\n",
       "      <td>[[lithium is one of a few key chemical element...</td>\n",
       "      <td>414</td>\n",
       "      <td>10</td>\n",
       "      <td>0.013</td>\n",
       "      <td>0.541311</td>\n",
       "      <td>0.102</td>\n",
       "      <td>0.517056</td>\n",
       "    </tr>\n",
       "    <tr>\n",
       "      <th>8435</th>\n",
       "      <td>1612.01735</td>\n",
       "      <td>[life science is regarded as the last forefron...</td>\n",
       "      <td>[geometric , topological and graph theory mode...</td>\n",
       "      <td>[introduction, discrete apparatuses for biomol...</td>\n",
       "      <td>[[life science is regarded as the last forefro...</td>\n",
       "      <td>311</td>\n",
       "      <td>11</td>\n",
       "      <td>0.017</td>\n",
       "      <td>0.462061</td>\n",
       "      <td>0.071</td>\n",
       "      <td>0.386905</td>\n",
       "    </tr>\n",
       "  </tbody>\n",
       "</table>\n",
       "</div>"
      ],
      "text/plain": [
       "           article_id                                       article_text  \\\n",
       "4741        1312.4941  [the effect of the background rotation on the ...   \n",
       "4426  astro-ph0308422  [a standard picture of the crab nebula was giv...   \n",
       "737   astro-ph9803257  [the lyman alpha ( ly@xmath1 )  forest \" ( @xc...   \n",
       "3132        1212.6057  [lithium is one of a few key chemical elements...   \n",
       "8435       1612.01735  [life science is regarded as the last forefron...   \n",
       "\n",
       "                                          abstract_text  \\\n",
       "4741  [we report results on the geometrical statisti...   \n",
       "4426  [an axisymmetric model for the crab nebula is ...   \n",
       "737   [we present a systematic search for ovi(1032,1...   \n",
       "3132  [lithium in the atmosphere of a f or g supergi...   \n",
       "8435  [geometric , topological and graph theory mode...   \n",
       "\n",
       "                                          section_names  \\\n",
       "4741  [introduction, theoretical background on the g...   \n",
       "4426  [introduction, a 3d model, reproduction of the...   \n",
       "737   [introduction, modeling the lyman alpha forest...   \n",
       "3132  [introduction, comparison with theoretical pre...   \n",
       "8435  [introduction, discrete apparatuses for biomol...   \n",
       "\n",
       "                                               sections  len_text  \\\n",
       "4741  [[the effect of the background rotation on the...       285   \n",
       "4426  [[a standard picture of the crab nebula was gi...       145   \n",
       "737   [[the lyman alpha ( ly@xmath1 )  forest \" ( @x...       435   \n",
       "3132  [[lithium is one of a few key chemical element...       414   \n",
       "8435  [[life science is regarded as the last forefro...       311   \n",
       "\n",
       "      len_abstract  opt_mindf  opt_mindf_r1  opt_maxdf  opt_maxdf_r1  \n",
       "4741            11      0.008      0.547847      0.018      0.427984  \n",
       "4426            11      0.049      0.502655      0.607      0.386803  \n",
       "737             10      0.049      0.526432      0.046      0.408517  \n",
       "3132            10      0.013      0.541311      0.102      0.517056  \n",
       "8435            11      0.017      0.462061      0.071      0.386905  "
      ]
     },
     "execution_count": 3,
     "metadata": {},
     "output_type": "execute_result"
    }
   ],
   "source": [
    "dataset = load_obj('ds_arx_mindf')\n",
    "dataset.head()"
   ]
  },
  {
   "cell_type": "code",
   "execution_count": 4,
   "id": "b4866965-3681-411d-8f86-f15370e7d382",
   "metadata": {
    "execution": {
     "iopub.execute_input": "2024-03-19T11:58:25.151288Z",
     "iopub.status.busy": "2024-03-19T11:58:25.150920Z",
     "iopub.status.idle": "2024-03-19T11:58:25.158279Z",
     "shell.execute_reply": "2024-03-19T11:58:25.157797Z",
     "shell.execute_reply.started": "2024-03-19T11:58:25.151271Z"
    }
   },
   "outputs": [
    {
     "data": {
      "text/plain": [
       "4741     [the effect of the background rotation on the ...\n",
       "4426     [a standard picture of the crab nebula was giv...\n",
       "737      [the lyman alpha ( ly@xmath1 )  forest \" ( @xc...\n",
       "3132     [lithium is one of a few key chemical elements...\n",
       "8435     [life science is regarded as the last forefron...\n",
       "                               ...                        \n",
       "2322     [soft deformable colloids , such as foam bubbl...\n",
       "9415     [solar cycle 23 was predicted to reach a maxim...\n",
       "14426    [this paper is the first step towards a mathem...\n",
       "6459     [the description of complex interactions with ...\n",
       "3662     [the current cosmological paradigm of a flat u...\n",
       "Name: article_text, Length: 376, dtype: object"
      ]
     },
     "execution_count": 4,
     "metadata": {},
     "output_type": "execute_result"
    }
   ],
   "source": [
    "dataset['article_text']"
   ]
  },
  {
   "cell_type": "markdown",
   "id": "3d779474-42bb-4258-92c3-0c6d02534a0c",
   "metadata": {},
   "source": [
    "## Functions required"
   ]
  },
  {
   "cell_type": "code",
   "execution_count": 5,
   "id": "0fc983aa-6cf3-4081-bb3e-b04e8ae36ea0",
   "metadata": {
    "execution": {
     "iopub.execute_input": "2024-03-19T11:58:25.159371Z",
     "iopub.status.busy": "2024-03-19T11:58:25.158907Z",
     "iopub.status.idle": "2024-03-19T11:58:25.163529Z",
     "shell.execute_reply": "2024-03-19T11:58:25.163036Z",
     "shell.execute_reply.started": "2024-03-19T11:58:25.159353Z"
    }
   },
   "outputs": [],
   "source": [
    "def clean_text(text):\n",
    "    text = re.sub(r'[^\\w\\s]', '', text)\n",
    "    return text.lower()\n",
    "    \n",
    "#def split_into_sentences_for_abstract(text):\n",
    "   # return re.split(r'[.!?\\'\\']', text)\n",
    "\n",
    "def split_into_sentences(text):\n",
    "    return sent_tokenize(text)\n",
    "\n",
    "def distance_to_line(x0,y0,b,a):\n",
    "    return np.abs(b*x0 - y0 + a)/(np.sqrt(b**2+1))\n",
    "\n",
    "def compute_line_params(x_data, y_data):\n",
    "    m = (y_data[-1] - y_data[0]) / (x_data[-1] - x_data[0])\n",
    "    c = y_data[0] - m * x_data[0]\n",
    "    return m, c\n",
    "\n",
    "def exp_decreasing(x, a, b, c):\n",
    "    return a * np.exp(-b * x) + c"
   ]
  },
  {
   "cell_type": "markdown",
   "id": "4fa2b85e-c374-4e1b-8cbe-be9fce47dac4",
   "metadata": {},
   "source": [
    "## Keep the article texts and abstract texts separately "
   ]
  },
  {
   "cell_type": "code",
   "execution_count": 6,
   "id": "29c07c5d-9ff5-4641-970e-faf386fd84db",
   "metadata": {
    "execution": {
     "iopub.execute_input": "2024-03-19T11:58:25.164104Z",
     "iopub.status.busy": "2024-03-19T11:58:25.164007Z",
     "iopub.status.idle": "2024-03-19T11:58:25.167927Z",
     "shell.execute_reply": "2024-03-19T11:58:25.167399Z",
     "shell.execute_reply.started": "2024-03-19T11:58:25.164092Z"
    }
   },
   "outputs": [],
   "source": [
    "article_texts = {}\n",
    "abstract_texts= {}\n",
    "\n",
    "for index, text in dataset['article_text'].items():\n",
    "    paper_id = index\n",
    "    article_texts[paper_id] = text\n",
    "\n",
    "for index,text in dataset['abstract_text'].items():\n",
    "    paper_id = index\n",
    "    abstract_texts[paper_id] = text\n",
    "\n",
    "keys = {key: [] for key in article_texts.keys()}\n",
    "#keys"
   ]
  },
  {
   "cell_type": "code",
   "execution_count": 7,
   "id": "2f248ac2-50dd-4d6a-b4ef-a779f55e1d1f",
   "metadata": {
    "execution": {
     "iopub.execute_input": "2024-03-19T11:58:25.169807Z",
     "iopub.status.busy": "2024-03-19T11:58:25.169617Z",
     "iopub.status.idle": "2024-03-19T11:58:25.175485Z",
     "shell.execute_reply": "2024-03-19T11:58:25.175024Z",
     "shell.execute_reply.started": "2024-03-19T11:58:25.169792Z"
    }
   },
   "outputs": [
    {
     "data": {
      "text/plain": [
       "['the effect of the background rotation on the dynamics of fluid flows is ubiquitous in large - scale geophysical and astrophysical flows , as well as in the context of industrial rotating machinery .',\n",
       " 'it is well - known that the coriolis acceleration term in the navier ',\n",
       " 'stokes equations is responsible for altering the flow dynamics including the anisotropisation of turbulent flows , but the underlying physical mechanisms are still poorly understood .',\n",
       " 'another familiar phenomenon is that a three - dimensional ( 3d ) turbulent flow subject to a fast background rotation evolves towards a quasi - two - dimensional ( q2d ) state , which is characterised by a strong damping of velocity gradient components along the direction parallel to the rotation axis .',\n",
       " '+ the anisotropisation of turbulent flows induced by background rotation , has been the subject of several numerical and experimental investigations in the past , which led to important progress in the field .',\n",
       " 'we briefly summarise the most important studies based on simulations and physical experiments , and the main observations .',\n",
       " 'early laboratory experiments of rotating grid - turbulence were carried out in a wind tunnel  @xcite and focused , for example , on the decay of the kinetic energy and the energy dissipation rate  @xcite and on the confirmation of the role of the nonlinear nature of the transition from 3d to predominantly 2d flow dynamics of homogeneous turbulence ( predicted earlier by cambon _',\n",
       " 'et al . _',\n",
       " 'the increase of eulerian velocity correlations due to rotation and the temporal decay of the turbulent flow were already quantified during the seventies with an experiment where turbulent air flow in a rotating annular container was forced by a system of translating grids  @xcite . in 1976',\n",
       " 'mcewan  @xcite revealed for the first time the concentration of vorticity in coherent structures in rotating turbulence .',\n",
       " 'hopfinger and colleagues  @xcite investigated the large - scale effects of rotation on a turbulent flow , which was continuously forced locally in space , aimed at studying the population statistics of the vorticity tubes characterising the rotating flow .',\n",
       " 'they also provided a detailed phenomenological description of the instabilities of such eddies for a specific rotation rate , their nonlinear mutual interactions and eventual breakdowns . during the last two decades ,',\n",
       " 'direct numerical simulation ( dns ) of rotating turbulence ( decaying , or with large - scale forcing ) revealed additional information .',\n",
       " 'for example , the important increase of velocity correlations along the direction parallel to the rotation axis , and the mild decrease of correlations along the perpendicular directions , with increasing system rotation  @xcite , and the increase of horizontal integral length scales with increasing rotation rate , followed by a decrease of the same horizontal integral scales for the fastest rotation rates  @xcite .',\n",
       " 'the latter dns focused on the combined effects of the background rotation and the vertical ( top and bottom ) confinement on turbulence forced locally in space .',\n",
       " 'recent laboratory experiments on rotating turbulence addressed several issues like intermittency  @xcite , coupling between inertial wave patterns , and turbulence decay using high - resolution particle image velocimetry ( piv )  @xcite , and accurate visualisations by means of reflective flakes of the formation and evolution of columnar eddies in rotating turbulence  @xcite .',\n",
       " 'these visualisation experiments showed that  for initially inhomogeneous turbulence ',\n",
       " 'large coherent vortices build - up in a time comparable with half the revolution period , compatible with linear effects , rather than on the longer time scale typical of nonlinear ones .',\n",
       " 'the stereo - piv measurements by van bokhoven and coworkers  @xcite characterised the effects of rapid background rotation on the statistical properties of the same turbulent flow reported in the present paper .',\n",
       " 'they explored the statistical homogeneity and ( planar ) isotropy of the velocity fluctuations , and extracted the integral time and length scales as function of rotation rate .',\n",
       " 'in particular , they described , for the first time in laboratory settings , the reverse dependence on the rotation rate of the spatial horizontal correlation coefficients , as predicted earlier by numerical studies  @xcite .',\n",
       " 'furthermore , they observed a linear ( anomalous ) scaling of the longitudinal spatial structure function exponents in the presence of rotation . with the present - day computer resources ,',\n",
       " 'a surge in large - scale dns of rotating turbulence has occurred , although mostly for periodic domains ( thus excluding the effects of confinement and in absence of ekman boundary - layer dynamics close to the domain walls )  @xcite .',\n",
       " '+ the experimental data available is still scarce and mostly of eulerian nature .',\n",
       " 'recently , few studies have been reported on the three velocity components of the flow measured in a lagrangian manner by using 3d particle tracking velocimetry ( 3d - ptv )  @xcite .',\n",
       " 'two of these studies were carried out in our laboratory , and focused on the lagrangian statistics of passive tracer velocities and accelerations in rotating turbulence for a sequence of rotation rates  @xcite .',\n",
       " 'thanks to 3d - ptv , we have access to the vorticity vector , and studied its dynamics in rotating turbulence . for the non - rotating case , this kind of particle tracking studies has been pursued several years ago  @xcite , and rotating ptv experiments quantified the transition from 3d to q2d large - scale dynamics  @xcite . but laboratory experiments aimed at exploring the influence of system rotation on the dynamics of the small scales and in particular of the vorticity vector have not yet been reported and are the main topics of the present paper . in the context of the existing literature , the latter studies on the lagrangian statistics of velocities and accelerations of passive tracers , and the present work reported here on the geometrical statistics of the vorticity and the strain rate tensor in rotating turbulence are based on experiments resembling the ones performed in closed non - shallow containers , and with continuous forcing applied locally in space ( see , e.g. , refs .',\n",
       " 'the forcing scheme adopted to continuously sustain the turbulence produces a flow which is similar to a taylor - green flow , resembling the driving mechanism used in many dns simulations of turbulence ( see , for example , ref .',\n",
       " '+ the present paper is organised as follows . in section  [ sec2 ] , the theoretical background of geometrical statistics of the vorticity vector is briefly summarised .',\n",
       " 'the experimental set - up is described briefly in section  [ sec3 ] , while more detailed information can be found elsewhere  @xcite .',\n",
       " 'based on our stereo - piv  @xcite and 3d - ptv experiments , the main features of forced rotating turbulence relevant for the present study is discussed in section  [ sec4 ] .',\n",
       " 'results from the study on some geometrical statistics of the flow will be presented in sections  [ sec5 ] ( the reference non - rotating case ) and in section  [ sec6 ] for the cases when background rotation is applied .',\n",
       " 'finally , conclusions are summarised in section  [ sec7 ] .',\n",
       " 'the governing equations to describe incompressible flows in a fluid subject to system rotation are usually the navier - stokes equations formulated for the rotating non - inertial frame of reference .',\n",
       " 'they contain two additional contributions , the coriolis acceleration and the centrifugal acceleration .',\n",
       " 'the latter is irrotational , therefore can be written as a gradient and is incorporated in the pressure gradient term . for a newtonian fluid , and in the presence of external forces , the navier - stokes equations read ( in tensorial notation ) : @xmath5 @xmath6 here , @xmath7 are the components of the velocity @xmath8 ( for later use we also introduce the notation @xmath9 ) , @xmath10 the components of the position vector @xmath11 , and @xmath12 the components of the velocity gradient tensor @xmath13 .',\n",
       " 'the components of the system rotation @xmath14 are denoted by @xmath15 and those of the external force field @xmath16 applied to the fluid by @xmath17 . keeping the laboratory experiments in mind ,',\n",
       " 'the system rotation is defined such that only the vertical component is non - zero , i.e. @xmath18 .',\n",
       " 'finally , @xmath19 is the kinematic viscosity of the fluid , and @xmath20 its density .',\n",
       " '+ it is also convenient to define here the nondimensional numbers which characterise a fluid flow according to the relative importance of the different terms in the momentum equation .',\n",
       " 'indicating with @xmath21 and @xmath22 the typical length and velocity scales representative of the flow ( such as the integral length scale and the root mean square ( rms ) velocity of the turbulent flow , respectively ) , the ratio between the order of magnitude of different terms in eq .',\n",
       " '( [ eq : nsmomentum - rotating ] ) defines three relevant dimensionless parameters .',\n",
       " 'the first is the reynolds number @xmath23 .',\n",
       " 'the rossby number @xmath24 measures the relative importance of the coriolis force with respect to fluid inertia . for',\n",
       " 'non - rotating flows @xmath25 , and for rapidly rotating flows we have @xmath26 . finally , the ekman number @xmath27 , which is a measure for the relative importance of viscous forces with respect to the coriolis force .',\n",
       " '+ for @xmath28 ( in the bulk of the flow , away from boundaries ) and @xmath29 , the viscous and advective terms may be neglected , and in steady conditions the fluid particle acceleration is solely determined by the pressure gradient and the coriolis force .',\n",
       " 'such situation is known as the geostrophic balance , and it is of utmost importance for the dynamics of the flow in the atmosphere and in the oceans .',\n",
       " 'from such an expression , the taylor - proudman theorem can easily be derived : @xmath30 .',\n",
       " 'this theorem states the suppression of the velocity derivatives in the direction parallel with the rotation axis . + in order to understand the interactions between the terms of the equations of motion ruling a turbulent flow , it is useful to express them as functions of the vorticity vector @xmath31 .',\n",
       " 'the vorticity evolution equation in the rotating frame of reference , derived by taking the curl of the navier - stokes equations ( [ eq : nsmomentum - rotating ] ) , reads : @xmath32 with the absolute vorticity defined according to @xmath33 ( note that @xmath14 is independent of both space and time ) .',\n",
       " '+ before we discuss in more detail the role of system rotation on vorticity dynamics , it is instructive to summarise the main results for homogeneous isotropic turbulence .',\n",
       " 'it had already been recognised for more than 70 years , see for example ref .',\n",
       " '@xcite , that the velocity derivatives in the turbulent flow play a special role in vorticity dynamics in general , and in vortex stretching and tilting processes in particular . in the case of absence of system rotation ,',\n",
       " 'the vorticity equation ( [ absvor - eq ] ) reduces to @xmath34 where @xmath35 is the strain rate tensor ( the symmetric part of the velocity gradient tensor ) .',\n",
       " 'the term @xmath36 represents the stretching ( or compression ) and tilting of the vorticity vector operated by the velocity gradient . since the work by taylor  @xcite',\n",
       " ', the vortex stretching operated by the strain rate field is considered as a key  ingredient in the dissipative process of turbulence .',\n",
       " 'the evolution of the local enstrophy , @xmath37 , and the local strain , @xmath38 , are expressed by the following equations : @xmath39 and @xmath40 with @xmath41 .',\n",
       " 'the evolution of the vorticity and strain fields are strongly connected , see refs .',\n",
       " 'in particular , the dynamics of both fields are driven by self - amplification . as discussed by tsinober and coworkers  @xcite ,',\n",
       " 'the production terms of enstrophy and strain are dominated by the terms @xmath42 and @xmath43 , respectively .',\n",
       " 'the averaged production terms , in the following denoted by @xmath44 and @xmath45 , respectively , have also been observed to be larger than the external forcing term by several orders of magnitude in numerically simulated turbulent flows .',\n",
       " 'see , for example , ref .',\n",
       " '@xcite and table ii in that paper .',\n",
       " 'the numerical data revealed that both @xmath46 and @xmath47 .',\n",
       " 'in fact , the self - amplification term was found to be @xmath48 compared to the forcing term in eq .',\n",
       " '( [ vort - prod ] ) at @xmath49 ; @xmath50 at @xmath51 ; @xmath52 at @xmath53 .',\n",
       " 'these observations were made for the mean ( volume - averaged ) values , and also point - wise throughout the flow field . as remarked by lthi _',\n",
       " '_  @xcite , indications exist that the self - amplification process may have universal character for a wide range of turbulent flows . + it is important to decompose the interaction between vorticity and strain rate in the eigenframe of @xmath54 to distinguish between stretching , compression , and tilting events .',\n",
       " 'such analysis has been extensively conducted on experimental turbulence data ( _ e.g. _ , see @xcite ) , studying the alignment of the vorticity vector @xmath55 with respect to the three eigenvectors @xmath56 of the strain rate tensor .',\n",
       " '+ in this paper we present the results of the same analysis on experimental data of rotating , confined , continuously forced turbulence , in order to statistically quantify the influence of the background rotation in terms of such mutual alignments .',\n",
       " '-section through the origin of the central part of the forced region of the flow , and top view of the same region . the magnetic field @xmath57 and the current density @xmath58',\n",
       " 'are indicated , together with the position of the magnets and their top - face polarity .',\n",
       " 'the measurement region is marked with a dashed line .',\n",
       " 'the position of the cartesian reference frame @xmath59 is indicated in the drawing.,title=\"fig:\",scaledwidth=57.0% ] -section through the origin of the central part of the forced region of the flow , and top view of the same region .',\n",
       " 'the magnetic field @xmath57 and the current density @xmath58 are indicated , together with the position of the magnets and their top - face polarity .',\n",
       " 'the measurement region is marked with a dashed line .',\n",
       " 'the position of the cartesian reference frame @xmath59 is indicated in the drawing.,title=\"fig:\",scaledwidth=42.0% ]    a transparent fluid container equipped with a turbulence generator and an optical measurement system is used to perform the experiments .',\n",
       " 'a side - view of the setup is sketched in fig .',\n",
       " '[ fig1](a ) .',\n",
       " 'four high - speed cameras ( photron fastcamx1024pci ) picture the central - bottom region of the fluid container through the top - lid .',\n",
       " 'the illumination is provided by a led  array made of @xmath60 luxeon k2 leds ( @xmath61 total dissipation and roughly @xmath62 of light ) mounted on a water - cooled aluminium block .',\n",
       " 'the entire setup is mounted on a rotating table , so that the flow is measured in the rotating frame of reference .',\n",
       " 'the flow domain measures @xmath63 ( length @xmath64 width @xmath64 height ) , and the free surface deformation is inhibited by a perfectly sealed top - lid .',\n",
       " 'the turbulence generator is inspired by the electromagnetic forcing system commonly used for shallow - flows  @xcite , and currently operational in our laboratory for both shallow flow and rotating turbulence experiments  @xcite .',\n",
       " 'a schematic sketch of the forcing system is shown in fig .',\n",
       " '[ fig1](a ) .',\n",
       " 'the tank is filled with sodium chloride ( nacl ) water solution ( @xmath65 nacl in @xmath66 of water ) .',\n",
       " 'the fluid density @xmath67 is @xmath68 , and the kinematic viscosity @xmath19 is @xmath69 .',\n",
       " 'two elongated electrodes , positioned near the bottom at opposite sidewalls of the container , are connected to a remote - controlled power supply ( kepco bop 50 8p ) which drives a stable electric current ( @xmath70 ) through the fluid .',\n",
       " 'permanent axial magnets ( neodymium , maximum magnetic strength @xmath71 ) are placed underneath the bulk fluid with top - face polarities arranged in a check - board scheme .',\n",
       " 'the schematic sketch of the array of magnets is shown in fig .',\n",
       " '[ fig1](b ) .',\n",
       " 'the density of the magnetic field lines in the fluid bulk is increased by a steel plate @xmath72 thick on which the magnets are sitting .',\n",
       " 'a range of flow scales is forced by using two differently sized magnets : @xmath73 and @xmath74  @xcite .',\n",
       " 'the spacing between adjacent large magnets , @xmath75 , represents the energy input length scale in the system .',\n",
       " 'note that the flow is forced in the bottom region of the domain , and the turbulent kinetic energy decays with the distance @xmath76 from the bottom wall in the non - rotating case .',\n",
       " 'however , the vertical profiles of turbulent kinetic energy and related quantities appear to be rather flat when the rotation rate @xmath77  @xcite .',\n",
       " '+ the particle tracking velocimetry ( ptv ) code developed at eth , zrich  @xcite is used to perform the measurements .',\n",
       " 'pmma ( poly methyl methacrylate ) particles ( diameter @xmath78 ; density @xmath79 ) are used as tracers .',\n",
       " 'the concentration of the salt solution is adjusted to match the pmma density .',\n",
       " 'the stokes number @xmath80 expresses the ratio between the particle response time and a typical time scale of the flow .',\n",
       " 'here @xmath81 , @xmath82 , and @xmath83 is the kolmogorov time scale of the turbulent flow ( @xmath84 for different runs of our experiment ) .',\n",
       " 'therefore @xmath85 , and the chosen seeding particles well approximate passive flow tracers in terms of buoyancy and inertia .',\n",
       " 'the system is calibrated using a 3d - target , and the calibration parameters are further optimised using seeded flow images .',\n",
       " 'the 3d  position of the particles is retrieved with a maximum error of @xmath86 in the horizontal directions , and @xmath87 in the vertical one .',\n",
       " 'the recovered tracer trajectories are filtered to remove the noise produced by the positioning uncertainty , fitting third  order polynomials along limited segments of the trajectories around each particle position ( for details , see ref .',\n",
       " '@xcite ) . from the coefficients of the polynomial in each point , the position , velocity , and acceleration of the tracers at each time',\n",
       " ' step are extracted .',\n",
       " 'up to 2500 particles per time ',\n",
       " 'step have been tracked on average in a volume with size @xmath88 , thus roughly @xmath89 along each coordinate direction . + a detailed description of the experimental setup and',\n",
       " 'the data processing routines , together with an in - depth characterisation of the flow , can be found in refs .',\n",
       " 'experimental settings and some basic flow features relevant for the present experiments are summarised in the following section .',\n",
       " '.for each ( non ) rotating experiment , we have summarised the root - mean - square ( rms ) values of the horizontal and vertical velocities , @xmath90^{1/2}$ ] and @xmath91 , respectively , and the ratio of vertical and horizontal rms values @xmath92 . the rossby number @xmath93 , the ekman number @xmath94 , with @xmath95 the vertical size of the flow domain , and the thickness of the ekman boundary layer @xmath96 are also given . [ cols=\"<,^,^,^,^,^,^,^\",options=\"header \" , ]     from the data we can also conclude that @xmath97 ( for homogeneous and incompressible flows @xmath98 ) , with @xmath99 , and show the same trend for increasing rotation rate .',\n",
       " 'the relatively small differences for zero or small rotation rates are most likely due to the absence of ( vertical ) homogeneity . for larger rotation rates ,',\n",
       " 'vertical homogeneity is more or less restored .',\n",
       " 'note that the pointwise sum of the contributions of @xmath100 and @xmath101 do not vanish ( data not shown here ) .',\n",
       " 'the external contribution to the enstrophy and strain rate of change due to system rotation , denoted by @xmath102 , is found to be several orders of magnitude smaller than @xmath103 and @xmath104 .',\n",
       " 'we found @xmath105 for weak rotation rates ( @xmath106 rad / s ) and @xmath107 for the highest ones , thus supporting our assertion that enstrophy and strain production is largely governed by the contributions @xmath101 and @xmath43 , respectively .',\n",
       " 'furthermore , the tails of the ( almost symmetric ) distribution of the term @xmath108 ( not shown here ) are seen to get monotonically lower as the rotation rate is increased  as expected : the term vanishes in the case of pure 2d dynamics .',\n",
       " '+ the pdfs shown in figs .  [ fig4 ] and [ fig5 ] and the data in table  [ tab2 ] , clearly show that the rotation rate @xmath109 represents a special case . like in our studies of the lagrangian velocity and acceleration pdfs and autocorrelations  @xcite it turns out that this particular rotation rate is close to a critical rossby number @xmath110 , see brief discussion in section  [ sec4 ] and in refs .',\n",
       " '@xcite , which apparently contributes to enhanced extreme events affecting rms values of , e.g. , enstrophy and strain .',\n",
       " '+      +    +      in fig .',\n",
       " '[ fig6 ] , the cartesian components of the eigenvectors @xmath56 ( with @xmath111 or 3 ) are presented , in order to investigate their alignment with respect to the rotation axis @xmath76 . while the preferential alignment between @xmath55 and @xmath112 gets progressively enhanced by increasing @xmath0 ( see fig .  [ fig3 ] ) , the absolute value of the corresponding eigenvalue @xmath113 is strongly reduced by rotation ( and symmetrically distributed around @xmath114 ) , see the data for @xmath115 and @xmath116 in table [ tab2 ] .',\n",
       " 'the strain rate eigenframe is seen to have almost no preferential orientation with respect to the cartesian frame when no rotation is applied as the pdfs show more or less uniform distributions ( a remark concerning @xmath117 will follow below ) . with fast rotation , @xmath112 develops a strong preferential vertical alignment , while @xmath118 and @xmath119 get statistically horizontal .',\n",
       " 'the more pronounced alignment between @xmath55 and @xmath120 for high @xmath0 is understood in terms of their mutual alignment with the vertical direction ( parallel with @xmath121 ) .',\n",
       " 'the statistical orientation of @xmath122 with respect to @xmath123 is a signature of the transitional process from 3d- to q2d - dynamics of the flow .',\n",
       " 'the damping of the vertical gradients , together with the boundary conditions imposed by the fluid container , induce a strong reduction of the vertical velocity component ( see ref .',\n",
       " 'the flow evolves almost solely in the horizontal directions , and it is thus clear that also @xmath118 and @xmath119 ( the stretching and compression axes of the strain rate tensor ) lie  in a statistical sense  in the horizontal plane . for purely 2d - flows , @xmath113 vanishes and its eigenvector',\n",
       " '@xmath112 is perpendicular to the plane of motion , while the eigenvectors @xmath118 and @xmath119 lie in the plane .',\n",
       " '+ finally , we would like to add two remarks .',\n",
       " 'first , it is curious to note that , for zero background rotation , the flow is characterised by a slight tendency of horizontal alignment of the third eigenvector ( @xmath119 ) .',\n",
       " 'this indicates that compression in the flow happens more frequently in the @xmath124- or @xmath125-directions , rather than in the vertical one .',\n",
       " 'this could be interpreted in view of the geometrical constraint of the flow in our experiment , which results from the aspect ratio of the fluid container @xmath126 .',\n",
       " 'second , we do not fully understand the meaning of a preferential sign along a specific direction , which is observed in rotating and non - rotating runs for several pdfs shown above : see , _ e.g.',\n",
       " '_ , the slight tendency of @xmath118 to align with the vertical upward ( rather than downward ) direction for no rotation , or the strong tendency of alignment between @xmath112 and the same vertical upward direction in case of fast rotation .',\n",
       " 'further investigation is being carried on in order to understand these issues .',\n",
       " 'we performed a series of experiments of confined and continuously forced turbulence subjected to background rotation .',\n",
       " 'a range of rotation rates @xmath0 was considered , from non - rotating to rapidly rotating turbulence with a maximum background rotation rate of @xmath1 rad / s ( with rossby number much smaller than unity ) . typically , the taylor - scale reynolds number in our experiments was around @xmath2 . based on the components of the strain rate tensor , measured in a lagrangian way by 3d particle tracking velocimetry',\n",
       " ', we have been able to quantify statistically the effects of system rotation on several flow properties .',\n",
       " 'the experimental results show for the range of rotation rates considered how the turbulence evolves from almost isotropic 3d turbulence ( @xmath127 rad / s ) to quasi-2d turbulence ( @xmath4 rad / s ) .',\n",
       " 'the two  dimensionalisation process induced by rotation has been quantified in terms of the modified alignment  in a statistical sense  of the vorticity vector with respect to the eigenframe of the strain rate tensor and by analysing the projection of the vorticity vector @xmath55 on the vortex stretching vector @xmath128 .',\n",
       " 'when the rotation rate is increased , the probability of alignment of the vorticity vector with the intermediate eigenvector is amplified . at the same time',\n",
       " ', the same intermediate eigenvector tends to align statistically with the rotation axis , so that the first and third eigenvectors tend to lie in the plane of motion .',\n",
       " 'this is consistent with the limit picture of 2d - turbulence , for which there exist only two eigenvectors ( and they lie in the plane of motion ) and the vorticity vector is perpendicular to the plane of motion .',\n",
       " 'therefore the vorticity vector is perpendicular to both eigenvectors , and no stretching of vorticity is possible .',\n",
       " 'the latter phenomenon has been confirmed by exploring the pdfs of the geometrical invariant @xmath129 for the range of rotation rates considered in this study .',\n",
       " 'the absence of the vortex stretching mechanism is one of the main distinguishing features between the dynamics of 3d- and 2d - turbulence .',\n",
       " 'finally , we have quantified the role of system rotation on the self - amplification terms of the enstrophy and strain rate equations and the direct contribution of the background rotation on these evolution equations .',\n",
       " 'it turned out that the main effect of background rotation is a strong reduction of extreme events and a related strong reduction of the skewness of pdfs of several quantities , such as the intermediate eigenvalue of the strain rate tensor and the enstrophy and strain self - amplification terms .',\n",
       " '+ the present experimental investigations on rotating turbulence are carried out in a confined fluid with localised forcing ( near the bottom part of the container ) . as a consequence , both the presence of ekman boundary layers and of the forcing',\n",
       " 'affect the dynamics of the turbulent flow , and the rms properties of the turbulent flow will show a decay in the vertical direction .',\n",
       " 'this decay is substantial for the non- or weakly - rotating cases and relatively limited for rapidly rotating turbulence , see ref .',\n",
       " 'statistically steady and homogeneous rotating turbulence is more easily achieved in dns .',\n",
       " 'combination with state - of - the - art numerical studies on the lagrangian statistics of ( inertial ) particles , previously mostly applied to homogeneous isotropic turbulence ( see for a review ref .',\n",
       " '@xcite ) , may allow complementary studies on the role of rotation on geometrical statistics in rotating turbulence .',\n",
       " 'it may also allow to cover a larger part of the @xmath130 parameter space than in the present experiments .',\n",
       " '+   + _ acknowledgements : _ this project has been funded by the netherlands organisation for scientific research ( nwo ) under the innovational research incentives scheme grant esf.6239 .',\n",
       " 'the institutes igp and ifu of eth ( zrich ) are acknowledged for making available the ptv code .',\n",
       " \"the european cost action mp0806 `` particles in turbulence '' is also acknowledged .\",\n",
       " '+    50 s.c .',\n",
       " 'traugott , _ influence of solid - body rotation on screen - produced turbulence _ , nat .',\n",
       " 'washington , tech .',\n",
       " 'note 4135 ( 1958 ) .',\n",
       " 'wigeland and h.m .',\n",
       " 'nagib , _ grid - generated turbulence with and without rotation about the streamwise direction , iit fluids and heat transfer _ , r78 - 1 , illinois inst . of tech . , chicago , illinois ( 1978 ) .',\n",
       " 'l. jacquin , o. leuchter , c. cambon , and j. mathieu , _ homogeneous turbulence in the presence of rotation _ , j. fluid mech .',\n",
       " '220 ( 1990 ) , pp .',\n",
       " 'c. cambon and l. jacquin , _ spectral approach to non - isotropic turbulence subjected to rotation _ , j. fluid mech .',\n",
       " '202 ( 1989 ) , pp .',\n",
       " 'a. ibbetson and d.j .',\n",
       " 'tritton , _ experiments on turbulence in a rotating fluid _ , j. fluid mech',\n",
       " '. 68 ( 1975 ) , pp . 639672 .',\n",
       " 'mcewan , _ angular momentum diffusion and the initiation of cyclones _ , nature 260 ( 1976 ) , pp .',\n",
       " 'hopfinger , f.k .',\n",
       " 'browand , and y. gagne , _ turbulence and waves in a rotating tank _ , j. fluid mech . 125 ( 1982 ) ,',\n",
       " 'yeung and y. zhou , _ numerical study of rotating turbulence with external forcing _ , phys .',\n",
       " 'fluids 10 ( 1998 ) , pp . 28952909 .',\n",
       " 'f.s . godeferd and l. lollini , _ direct numerical simulations of turbulence with confinement and rotation _ , j. fluid mech .',\n",
       " '393 ( 1999 ) , pp .',\n",
       " 'baroud , b.b .',\n",
       " 'plapp , h.l .',\n",
       " 'swinney , and z.s .',\n",
       " 'she , _ scaling in three - dimensional and quasi - two - dimensional rotating turbulent flows _ , phys .',\n",
       " 'fluids 15 ( 2003 ) , pp .',\n",
       " 'c. morize , f. moisy , and m. rabaud , _ decaying grid - generated turbulence in a rotating tank _',\n",
       " 'fluids 17 ( 2005 ) , 095105 .',\n",
       " 'c. morize and f. moisy , _ energy decay of rotating turbulence with confinement effects _ , phys .',\n",
       " 'fluids 18 ( 2006 ) , 065107 .',\n",
       " 'f. moisy , c. morize , m. rabaud , and j. sommeria , _ decay laws , anisotropy and cyclone - anticyclone asymmetry in decaying rotating turbulence _ , j. fluid mech .',\n",
       " '666 ( 2011 ) , pp .',\n",
       " 'davidson , p.j .',\n",
       " 'staplehurst , and s.b .',\n",
       " 'dalziel , _ on the evolution of eddies in a rapidly rotating system _ , j. fluid mech .',\n",
       " '557 ( 2006 ) , pp .',\n",
       " '135144 . l.j.a .',\n",
       " 'van bokhoven , h.j.h .',\n",
       " 'clercx , g.j.f .',\n",
       " 'van heijst , and r.r . trieling , _ experiments on rapidly rotating turbulent flows _ , phys .',\n",
       " 'fluids 21 ( 2009 ) , 096601 .',\n",
       " 's. thalabard , d. rosenberg , a. pouquet , and p.d .',\n",
       " 'mininni , _ conformal invariance in three - dimensional rotating turbulence _ , phys .',\n",
       " '106 ( 2011 ) , 204503 .',\n",
       " 'mininnia , d. rosenberg , and a. pouquet , _ isotropization at small scales of rotating helically driven turbulence _ , j. fluid mech .',\n",
       " '699 ( 2012 ) , pp .',\n",
       " '263279 . m. kinzel , m. wolf , m. holzner , b. lthi , c. tropea , and w. kinzelbach , _ simultaneous two - scale 3d - ptv measurements in turbulence under the influence of system rotation _ , exp .',\n",
       " 'fluids 51 ( 2010 ) , pp .',\n",
       " '7582 . l. del castello and h.j.h .',\n",
       " 'clercx , _ lagrangian velocity autocorrelations in statistically steady rotating turbulence _ , phys .',\n",
       " 'e 83 ( 2011 ) , 056316 . l. del castello and h.j.h .',\n",
       " 'clercx , _ lagrangian acceleration of passive tracers in statistically  steady rotating turbulence _ ,',\n",
       " 'lett . 107 ( 2011 ) , 214502 .',\n",
       " 'b. lthi , a. tsinober , and w. kinzelbach , _ lagrangian measurement of vorticity dynamics in turbulent flow _ , j. fluid mech .',\n",
       " '528 ( 2005 ) , pp .',\n",
       " 'b. lthi , m. kinzel , a. liberzon , m. holzner , c. tropea , w. kinzelbach , and a. tsinober , _',\n",
       " '3d-2d transition in inhomogeneous rotating turbulent flow _',\n",
       " ', ercoftac special bulletin on environmental flows ( 2008 ) .',\n",
       " 'mininni , a. alexakis , and a. pouquet , _ scale interactions and scaling laws in rotating flows at moderate rossby numbers and large reynolds numbers _ , phys .',\n",
       " 'fluids 21 ( 2009 ) , 015108 .',\n",
       " 'l. del castello , _ table  top rotating turbulence : an experimental insight through particle tracking _ ,',\n",
       " ', eindhoven university of technology , the netherlands , 2010 .',\n",
       " 'taylor , _ production and dissipation of vorticity in a turbulent fluid _ , proc .',\n",
       " 'london a164 ( 1938 ) , pp .',\n",
       " 'a. tsinober , _ an informal introduction to turbulence _ , kluwer academic , dordrecht , 2001 .',\n",
       " 'b. galanti and a. tsinober , _ self - amplification of the field of velocity derivatives in quasi - isotropic turbulence _ ,',\n",
       " 'fluids 12 ( 2000 ) , pp .',\n",
       " 'saffman , in _ the global geometry of turbulence _ , j. jimenez , plenum , eds . , nato asi ser .',\n",
       " 'b 268 , 1991 , p. 348 .',\n",
       " 'a. tsinober , e. kit , and t. dracos , _ experimental investigation of the field of velocity gradients in turbulent flows _ , j. fluid mech .',\n",
       " '242 ( 1992 ) , pp . 169192 .',\n",
       " 'a. tsinober , _ geometrical statistics in turbulence _ , advances in turbulence 6 ( 1996 ) , pp .',\n",
       " '. m. kholmyansky , a. tsinober , and s. yorish , _ velocity derivatives in the atmospheric turbulent flow at @xmath131 _ , phys .',\n",
       " 'fluids 13 ( 2001 ) , pp .',\n",
       " 'm. guala , b. lthi , a. liberzon , a. tsinober , and w. kinzelbach , _ on the evolution of material lines and vorticity in homogeneous turbulence _ , j. fluid mech .',\n",
       " '533 ( 2005 ) , pp .',\n",
       " 'j. sommeria , _ experimental study of the two - dimensional inverse energy cascade in a square box _ , j. fluid mech .',\n",
       " '170 ( 1986 ) , pp .',\n",
       " 'p. tabeling , s. burkhart , o. cardoso , and h. willaime , _ experimental study of freely decaying two - dimensional turbulence _ ,',\n",
       " '67 ( 1991 ) , n. 27 , pp .',\n",
       " 'dolzhanskii , v.a .',\n",
       " 'krymov , and d.y .',\n",
       " 'manin , _ an advanced experimental investigation of quasi - two - dimensional shear flows _ , j. fluid mech .',\n",
       " '241 ( 1992 ) , pp .',\n",
       " 'clercx , g.j.f .',\n",
       " 'van heijst , and m.l .',\n",
       " 'zoeteweij , _ quasi - two - dimensional turbulence in shallow fluid layers : the role of bottom friction and fluid layer depth _ , phys .',\n",
       " 'e 67 ( 2003 ) , 066303 .',\n",
       " 'akkermans , a.r .',\n",
       " 'cieslik , l.p.j .',\n",
       " 'kamp , r.r .',\n",
       " 'trieling , h.j.h .',\n",
       " 'clercx , and g.j.f .',\n",
       " 'van heijst , _ the three - dimensional structure of an electromagnetically generated dipolar vortex in a shallow fluid layer _ , phys .',\n",
       " 'fluids 20 ( 2008 ) , 116601 . h.g .',\n",
       " 'maas , _ high - speed solid state camera systems for digital photogrammetry _ , int .',\n",
       " 'photogrammetry and remote sensing 29 ( 1993 ) , pp . 482482 .',\n",
       " 'malik , t. dracos , and d.a .',\n",
       " 'papantoniou , _ particle tracking velocimetry in three - dimensional flows .',\n",
       " 'part ii : particle tracking _ ,',\n",
       " 'fluids 15 ( 1993 ) , pp . 279294 .',\n",
       " 'j. willneff and a. gruen , _ a new spatio - temporal matching algorithm for 3d - particle tracking velocimetry _',\n",
       " 'transport phenomena and dynamics of rotating machinery 10 ( 2002 ) , p. 14 .',\n",
       " 'j. willneff , _ a spatio - temporal matching algorithm for 3d particle tracking velocimetry _ , ph.d .',\n",
       " ', swiss federal institute of technology zrich , 2003',\n",
       " '. b. lthi , _ some aspects of strain , vorticity and material element dynamics as measured with 3d particle tracking velocimetry in a turbulent flow _ , ph.d .',\n",
       " ', swiss federal institute of technology zrich , 2002 .',\n",
       " 'kloosterziel and g.j.f .',\n",
       " 'van heijst , _ an experimental study of unstable barotropic vortices in a rotating fluid _ , j. fluid mech .',\n",
       " '223 ( 1991 ) , pp .',\n",
       " 'van heijst and h.j.h .',\n",
       " 'clercx , _ laboratory modeling of geophysical vortices _ ,',\n",
       " 'fluid mech .',\n",
       " '41 ( 2009 ) , pp .',\n",
       " 'siggia , _ numerical study of small - scale intermittency in three - dimensional turbulence _ , j. fluid mech .',\n",
       " '107 ( 1981 ) , pp .',\n",
       " 'ashurst , a.r kerstein , r.a .',\n",
       " 'kerr , and c.h .',\n",
       " 'gibson , _ alignment of vorticity and scalar gradient with strain rate in simulated navier - stokes turbulence _',\n",
       " 'fluids 30 ( 1987 ) , pp . 23432353 .',\n",
       " 'a. tsinober , _ is concentrated vorticity that important ? _ , eur . j. mech .',\n",
       " 'b / fluids 17 ( 1998 ) , pp . 421449 .',\n",
       " 'r. betchov , _ an inequality concerning the production of vorticity in isotropic turbulence _ , j. fluid mech . 1 ( 1956 ) ,',\n",
       " 'b. lthi , s. ott , j. berg , and j. mann , _ lagrangian multi - particle statistics _',\n",
       " ', j. turbulence 8 ( 2007 ) , 45 . f. toschi and e. bodenschatz , _ lagrangian properties of particles in turbulence _ ,',\n",
       " 'fluid mech .',\n",
       " '41 ( 2009 ) , pp .']"
      ]
     },
     "execution_count": 7,
     "metadata": {},
     "output_type": "execute_result"
    }
   ],
   "source": [
    "article_texts[4741]"
   ]
  },
  {
   "cell_type": "markdown",
   "id": "54509910-212a-4be3-a684-9d8fa7caab9b",
   "metadata": {},
   "source": [
    "#### The function processes a dictionary of article texts, combining text segments per article, splitting them into sentences, and cleaning the text to identify unique words. For each word, it tracks how often it appears across sentences and stores these sentences. The results are aggregated into two dictionaries, one detailing the frequency of each word per article and another mapping words to the sentences they appear in, both keyed by article index. \"Dictionary in Dictionary\""
   ]
  },
  {
   "cell_type": "code",
   "execution_count": 8,
   "id": "5227101b-e51a-4f2e-88d8-e6ebe31a6f26",
   "metadata": {
    "execution": {
     "iopub.execute_input": "2024-03-19T11:58:25.176071Z",
     "iopub.status.busy": "2024-03-19T11:58:25.175969Z",
     "iopub.status.idle": "2024-03-19T11:58:30.349477Z",
     "shell.execute_reply": "2024-03-19T11:58:30.348895Z",
     "shell.execute_reply.started": "2024-03-19T11:58:25.176059Z"
    }
   },
   "outputs": [],
   "source": [
    "def count_sentences_with_unique_words_per_article_fixed(article_texts):\n",
    "    article_word_sentence_counts = {}\n",
    "    article_word_sentence_sets = {}\n",
    "\n",
    "    for index, text_list in article_texts.items():\n",
    "        word_sentence_counts = defaultdict(int) \n",
    "        word_sentence_sets = defaultdict(set)\n",
    "        combined_text = ' '.join(text_list)\n",
    "        sentences = split_into_sentences(combined_text)\n",
    "\n",
    "        for sentence in sentences:\n",
    "            cleaned_sentence = clean_text(sentence)\n",
    "            words = set(cleaned_sentence.split())\n",
    "            for word in words:\n",
    "                if word and word not in {',', '.'}:  \n",
    "                    word_sentence_counts[word] += 1  \n",
    "                    word_sentence_sets[word].add(cleaned_sentence)\n",
    "\n",
    "        article_word_sentence_counts[index] = word_sentence_counts\n",
    "        article_word_sentence_sets[index] = word_sentence_sets\n",
    "    return article_word_sentence_counts,article_word_sentence_sets\n",
    "dict_id_words_counts, dict_id_words_sentences = count_sentences_with_unique_words_per_article_fixed(dataset['article_text'])"
   ]
  },
  {
   "cell_type": "markdown",
   "id": "e24322eb-068d-4241-ac27-4db16874c0c0",
   "metadata": {},
   "source": [
    "### Here we tracked the number of sentences in each article text. At the first time we calculated them by ourselves, then we decided to take already found number of sentences from the dataset"
   ]
  },
  {
   "cell_type": "code",
   "execution_count": 9,
   "id": "597806ee-4078-43fc-a980-81b2ee9fb64a",
   "metadata": {
    "execution": {
     "iopub.execute_input": "2024-03-19T11:58:30.350699Z",
     "iopub.status.busy": "2024-03-19T11:58:30.350319Z",
     "iopub.status.idle": "2024-03-19T11:58:30.460826Z",
     "shell.execute_reply": "2024-03-19T11:58:30.460237Z",
     "shell.execute_reply.started": "2024-03-19T11:58:30.350679Z"
    }
   },
   "outputs": [],
   "source": [
    "number_of_sentences_per_article = {}\n",
    "\n",
    "for article_id, word_sentence_sets in dict_id_words_sentences.items():\n",
    "    all_sentences = set()\n",
    "    for sentences in word_sentence_sets.values():\n",
    "        all_sentences.update(sentences)\n",
    "    number_of_sentences_per_article[article_id] = len(all_sentences)\n",
    "\n",
    "number_of_sentences_article_texts_real = dataset['len_text'].to_numpy()\n",
    "number_of_sentences_abstract_texts_real = dataset['len_abstract'].to_numpy()\n",
    "\n",
    "for key,new_value in zip(number_of_sentences_per_article,number_of_sentences_article_texts_real):\n",
    "    number_of_sentences_per_article[key] = new_value\n",
    "\n",
    "#number_of_sentences_per_article"
   ]
  },
  {
   "cell_type": "markdown",
   "id": "09312459-026f-4c85-9d3e-79ebbd0bfe17",
   "metadata": {},
   "source": [
    "### Function that finds optimal min_df values for each document"
   ]
  },
  {
   "cell_type": "code",
   "execution_count": 10,
   "id": "88a55553-3110-4a47-bf27-17bb4388d9d9",
   "metadata": {
    "execution": {
     "iopub.execute_input": "2024-03-19T11:58:30.461990Z",
     "iopub.status.busy": "2024-03-19T11:58:30.461630Z",
     "iopub.status.idle": "2024-03-19T11:58:30.468199Z",
     "shell.execute_reply": "2024-03-19T11:58:30.467693Z",
     "shell.execute_reply.started": "2024-03-19T11:58:30.461972Z"
    }
   },
   "outputs": [],
   "source": [
    "min_df_values = {key: [] for key in keys.keys()}\n",
    "\n",
    "def find_min_df(key,threshold):\n",
    "    word_count_pairs = [(word, count) for word, count in dict_id_words_counts[key].items()] \n",
    "    filtered_word_count_pairs = [pair for pair in word_count_pairs if pair[1] >= threshold]\n",
    "\n",
    "    sorted_pairs = sorted(filtered_word_count_pairs, key=lambda pair: pair[1], reverse=True)\n",
    "    sorted_words = [pair[0] for pair in sorted_pairs]\n",
    "    sorted_counts = [pair[1] for pair in sorted_pairs]\n",
    "    \n",
    "    words = np.arange(len(sorted_words))\n",
    "    counts = np.array(sorted_counts)\n",
    "\n",
    "    initial_params = [max(counts), 0.1, min(counts)]\n",
    "    params, _ = curve_fit(exp_decreasing, words, counts, p0=initial_params)\n",
    "    exp_values = [exp_decreasing(x,*params) for x in words]\n",
    "    m, c = compute_line_params(words, exp_values)\n",
    "    distances_from_exp = [distance_to_line(x, exp_decreasing(x, *params), m, c) for x in words]\n",
    "\n",
    "    intersection_points = []\n",
    "    \n",
    "    for i in range(1,len(exp_values)):\n",
    "        if (exp_values[i-1]-distances_from_exp[i-1]) * (exp_values[i]-distances_from_exp[i]) < 0:\n",
    "            intersection_points.append(i)\n",
    "\n",
    "    try:\n",
    "        min_df = exp_values[intersection_points[1]]/number_of_sentences_per_article[key]\n",
    "    except:\n",
    "        min_df = -1\n",
    "   \n",
    "    return min_df"
   ]
  },
  {
   "cell_type": "markdown",
   "id": "b57ad0ef-912c-4028-896e-e8be256e7b39",
   "metadata": {},
   "source": [
    "### Function that generates summaries for each article text"
   ]
  },
  {
   "cell_type": "code",
   "execution_count": 11,
   "id": "c0b803e1-a3f5-4db1-a806-df177d3af5f3",
   "metadata": {
    "execution": {
     "iopub.execute_input": "2024-03-19T11:58:30.468925Z",
     "iopub.status.busy": "2024-03-19T11:58:30.468816Z",
     "iopub.status.idle": "2024-03-19T11:58:30.473577Z",
     "shell.execute_reply": "2024-03-19T11:58:30.473067Z",
     "shell.execute_reply.started": "2024-03-19T11:58:30.468911Z"
    }
   },
   "outputs": [],
   "source": [
    "def greed_sum(text, num_sent, min_df, max_df=1.0):\n",
    "    try:\n",
    "        # Fit a TFIDF vectorizer\n",
    "        vectorizer = TfidfVectorizer(min_df=min_df, max_df=max_df)\n",
    "        vectorizer.fit(text)\n",
    "\n",
    "        # Get the matrix\n",
    "        X = vectorizer.transform(text).toarray()\n",
    "\n",
    "        # Get the sentence indices\n",
    "        idx = []\n",
    "        while sum(sum(X)) != 0:\n",
    "            ind = np.argmax(X.sum(axis=1))\n",
    "            idx.append(ind)\n",
    "\n",
    "            # Update the matrix by deleting the columns corresponding to the words found in the previous step\n",
    "            cols = X[ind]\n",
    "            col_idx = [i for i in range(len(cols)) if cols[i] > 0]\n",
    "            X = np.delete(X, col_idx, 1)\n",
    "\n",
    "        idx = idx[:num_sent]\n",
    "        idx.sort()\n",
    "\n",
    "        summary = [text[i] for i in idx]\n",
    "        return summary\n",
    "    except ValueError as e:\n",
    "        return [\"Error: \" + str(e)]"
   ]
  },
  {
   "cell_type": "markdown",
   "id": "9cd2f944-c576-4ff5-b4fd-08723d58de11",
   "metadata": {},
   "source": [
    "### Function that compares the generated summary with etalon text"
   ]
  },
  {
   "cell_type": "code",
   "execution_count": 12,
   "id": "68ca0e13-fced-46ee-ad27-8ed8540d7eff",
   "metadata": {
    "execution": {
     "iopub.execute_input": "2024-03-19T11:58:30.474256Z",
     "iopub.status.busy": "2024-03-19T11:58:30.474154Z",
     "iopub.status.idle": "2024-03-19T11:58:30.477339Z",
     "shell.execute_reply": "2024-03-19T11:58:30.476838Z",
     "shell.execute_reply.started": "2024-03-19T11:58:30.474243Z"
    }
   },
   "outputs": [],
   "source": [
    "def compute_rouge_score(generated_text, etalon_text):\n",
    "    scorer = rouge_scorer.RougeScorer(['rouge1', 'rouge2', 'rougeL'], use_stemmer=True)\n",
    "    generated_text = ' '.join(generated_text)  \n",
    "    etalon_text = ' '.join(etalon_text)  \n",
    "    scores = scorer.score(generated_text, etalon_text)\n",
    "    rouge1_fmeasure = scores['rouge1'].fmeasure  #\n",
    "    return rouge1_fmeasure"
   ]
  },
  {
   "cell_type": "markdown",
   "id": "4d26c0d4-f75e-4275-91e9-0dd6fc5d1806",
   "metadata": {},
   "source": [
    "### The main part of the code. Here we used optimization to find optimal min_df values with all created functions. For each document there is optimal minimum word frequency (threshold), which in turn leads to optimal min_df value such that the highest possible ROUGE score for that document is obtained."
   ]
  },
  {
   "cell_type": "code",
   "execution_count": 13,
   "id": "7ba24c28-ab29-4580-ac44-428e354290b5",
   "metadata": {
    "execution": {
     "iopub.execute_input": "2024-03-19T11:58:30.477999Z",
     "iopub.status.busy": "2024-03-19T11:58:30.477899Z",
     "iopub.status.idle": "2024-03-19T12:05:22.571130Z",
     "shell.execute_reply": "2024-03-19T12:05:22.570699Z",
     "shell.execute_reply.started": "2024-03-19T11:58:30.477987Z"
    }
   },
   "outputs": [
    {
     "name": "stdout",
     "output_type": "stream",
     "text": [
      "Optimal threshold for document 4741: 7\n",
      "Optimal threshold for document 4426: 5\n",
      "Optimal threshold for document 737: 12\n",
      "Optimal threshold for document 3132: 4\n",
      "Optimal threshold for document 8435: 4\n",
      "Optimal threshold for document 1376: 19\n",
      "Optimal threshold for document 1867: 7\n",
      "Optimal threshold for document 11147: 11\n",
      "Optimal threshold for document 11425: 6\n",
      "Optimal threshold for document 13797: 6\n",
      "Optimal threshold for document 15736: 12\n",
      "Optimal threshold for document 2869: 4\n",
      "Optimal threshold for document 8296: 5\n",
      "Optimal threshold for document 8873: 5\n",
      "Optimal threshold for document 6000: 5\n",
      "Optimal threshold for document 4181: 8\n",
      "Optimal threshold for document 5792: 6\n",
      "Optimal threshold for document 11321: 6\n",
      "Optimal threshold for document 9587: 4\n",
      "Optimal threshold for document 15508: 15\n",
      "Optimal threshold for document 13610: 9\n",
      "Optimal threshold for document 9776: 9\n",
      "Optimal threshold for document 6214: 5\n",
      "Optimal threshold for document 7549: 7\n",
      "Optimal threshold for document 12781: 7\n",
      "Optimal threshold for document 12985: 9\n",
      "Optimal threshold for document 15897: 15\n",
      "Optimal threshold for document 2036: 10\n",
      "Optimal threshold for document 12825: 5\n",
      "Optimal threshold for document 5169: 6\n",
      "Optimal threshold for document 15093: 6\n",
      "Optimal threshold for document 2502: 6\n",
      "Optimal threshold for document 9103: 5\n",
      "Optimal threshold for document 4745: 6\n",
      "Optimal threshold for document 11212: 4\n",
      "Optimal threshold for document 106: 12\n",
      "Optimal threshold for document 11954: 11\n",
      "Optimal threshold for document 2614: 15\n",
      "Optimal threshold for document 9766: 12\n",
      "Optimal threshold for document 8050: 5\n",
      "Optimal threshold for document 10464: 8\n",
      "Optimal threshold for document 1668: 3\n",
      "Optimal threshold for document 7789: 6\n",
      "Optimal threshold for document 9130: 8\n",
      "Optimal threshold for document 11706: 6\n",
      "Optimal threshold for document 683: 4\n",
      "Optimal threshold for document 2105: 17\n",
      "Optimal threshold for document 3388: 12\n",
      "Optimal threshold for document 6334: 9\n",
      "Optimal threshold for document 13616: 14\n",
      "Optimal threshold for document 16450: 4\n",
      "Optimal threshold for document 16468: 11\n",
      "Optimal threshold for document 10401: 4\n",
      "Optimal threshold for document 16393: 9\n",
      "Optimal threshold for document 17035: 4\n",
      "Optimal threshold for document 11671: 9\n",
      "Optimal threshold for document 6261: 8\n",
      "Optimal threshold for document 8088: 10\n",
      "Optimal threshold for document 14555: 7\n",
      "Optimal threshold for document 4660: 14\n",
      "Optimal threshold for document 15380: 6\n",
      "Optimal threshold for document 3549: 4\n",
      "Optimal threshold for document 14624: 5\n",
      "Optimal threshold for document 2171: 7\n",
      "Optimal threshold for document 3678: 7\n",
      "Optimal threshold for document 12263: 14\n",
      "Optimal threshold for document 12624: 2\n",
      "Optimal threshold for document 11328: 8\n",
      "Optimal threshold for document 1071: 8\n",
      "Optimal threshold for document 2742: 16\n",
      "Optimal threshold for document 12455: 8\n",
      "Optimal threshold for document 4853: 10\n",
      "Optimal threshold for document 6576: 16\n",
      "Optimal threshold for document 7385: 7\n",
      "Optimal threshold for document 7629: 10\n",
      "Optimal threshold for document 4339: 8\n",
      "Optimal threshold for document 4409: 9\n",
      "Optimal threshold for document 9479: 6\n",
      "Optimal threshold for document 11651: 12\n",
      "Optimal threshold for document 5567: 10\n",
      "Optimal threshold for document 3398: 9\n",
      "Optimal threshold for document 6464: 10\n",
      "Optimal threshold for document 14999: 15\n",
      "Optimal threshold for document 1278: 7\n",
      "Optimal threshold for document 1055: 5\n",
      "Optimal threshold for document 2728: 19\n",
      "Optimal threshold for document 14807: 10\n",
      "Optimal threshold for document 16563: 4\n",
      "Optimal threshold for document 10843: 3\n",
      "Optimal threshold for document 9443: 4\n",
      "Optimal threshold for document 3635: 4\n",
      "Optimal threshold for document 7199: 6\n",
      "Optimal threshold for document 7653: 19\n",
      "Optimal threshold for document 7926: 6\n",
      "Optimal threshold for document 15208: 3\n",
      "Optimal threshold for document 12787: 3\n",
      "Optimal threshold for document 13793: 4\n",
      "Optimal threshold for document 706: 4\n",
      "Optimal threshold for document 8882: 5\n",
      "Optimal threshold for document 13257: 9\n",
      "Optimal threshold for document 8157: 8\n",
      "Optimal threshold for document 10593: 3\n",
      "Optimal threshold for document 4514: 10\n",
      "Optimal threshold for document 17130: 4\n",
      "Optimal threshold for document 6840: 5\n",
      "Optimal threshold for document 2279: 8\n",
      "Optimal threshold for document 9764: 7\n",
      "Optimal threshold for document 1803: 9\n",
      "Optimal threshold for document 4010: 4\n",
      "Optimal threshold for document 13334: 10\n",
      "Optimal threshold for document 11746: 8\n",
      "Optimal threshold for document 8620: 6\n",
      "Optimal threshold for document 12713: 8\n",
      "Optimal threshold for document 10910: 9\n",
      "Optimal threshold for document 14728: 7\n",
      "Optimal threshold for document 505: 17\n",
      "Optimal threshold for document 2608: 8\n",
      "Optimal threshold for document 13969: 4\n",
      "Optimal threshold for document 4413: 12\n",
      "Optimal threshold for document 8881: 12\n",
      "Optimal threshold for document 6597: 10\n",
      "Optimal threshold for document 5071: 13\n",
      "Optimal threshold for document 224: 6\n",
      "Optimal threshold for document 6203: 9\n",
      "Optimal threshold for document 784: 6\n",
      "Optimal threshold for document 15238: 13\n",
      "Optimal threshold for document 6199: 8\n",
      "Optimal threshold for document 10479: 8\n",
      "Optimal threshold for document 2696: 3\n",
      "Optimal threshold for document 7516: 6\n",
      "Optimal threshold for document 8764: 10\n",
      "Optimal threshold for document 7882: 14\n",
      "Optimal threshold for document 16465: 4\n",
      "Optimal threshold for document 1888: 9\n",
      "Optimal threshold for document 8806: 11\n",
      "Optimal threshold for document 12893: 8\n",
      "Optimal threshold for document 15966: 7\n",
      "Optimal threshold for document 11626: 7\n",
      "Optimal threshold for document 2373: 8\n",
      "Optimal threshold for document 3040: 6\n",
      "Optimal threshold for document 15367: 7\n",
      "Optimal threshold for document 8967: 4\n",
      "Optimal threshold for document 15713: 7\n",
      "Optimal threshold for document 14924: 7\n",
      "Optimal threshold for document 1523: 11\n",
      "Optimal threshold for document 2849: 8\n",
      "Optimal threshold for document 10357: 12\n",
      "Optimal threshold for document 11: 8\n",
      "Optimal threshold for document 11354: 11\n",
      "Optimal threshold for document 8201: 5\n",
      "Optimal threshold for document 15946: 10\n",
      "Optimal threshold for document 11684: 7\n",
      "Optimal threshold for document 13488: 9\n",
      "Optimal threshold for document 9265: 4\n",
      "Optimal threshold for document 12746: 12\n",
      "Optimal threshold for document 3607: 8\n",
      "Optimal threshold for document 2262: 7\n",
      "Optimal threshold for document 107: 8\n",
      "Optimal threshold for document 9548: 11\n",
      "Optimal threshold for document 8849: 11\n",
      "Optimal threshold for document 6757: 13\n",
      "Optimal threshold for document 15913: 9\n",
      "Optimal threshold for document 11935: 6\n",
      "Optimal threshold for document 9568: 8\n",
      "Optimal threshold for document 6145: 9\n",
      "Optimal threshold for document 6485: 12\n",
      "Optimal threshold for document 9394: 4\n",
      "Optimal threshold for document 14508: 16\n",
      "Optimal threshold for document 14892: 4\n",
      "Optimal threshold for document 12766: 5\n",
      "Optimal threshold for document 1612: 3\n",
      "Optimal threshold for document 3265: 9\n",
      "Optimal threshold for document 4995: 11\n",
      "Optimal threshold for document 3340: 6\n",
      "Optimal threshold for document 11338: 9\n",
      "Optimal threshold for document 11829: 16\n",
      "Optimal threshold for document 10699: 11\n",
      "Optimal threshold for document 7195: 8\n",
      "Optimal threshold for document 7177: 17\n",
      "Optimal threshold for document 1222: 9\n",
      "Optimal threshold for document 13551: 6\n",
      "Optimal threshold for document 12914: 5\n",
      "Optimal threshold for document 6369: 13\n",
      "Optimal threshold for document 16665: 7\n",
      "Optimal threshold for document 11905: 5\n",
      "Optimal threshold for document 14873: 15\n",
      "Optimal threshold for document 15799: 9\n",
      "Optimal threshold for document 6638: 13\n",
      "Optimal threshold for document 13057: 13\n",
      "Optimal threshold for document 2172: 9\n",
      "Optimal threshold for document 7471: 15\n",
      "Optimal threshold for document 12674: 10\n",
      "Optimal threshold for document 1276: 3\n",
      "Optimal threshold for document 4539: 5\n",
      "Optimal threshold for document 544: 8\n",
      "Optimal threshold for document 7771: 9\n",
      "Optimal threshold for document 11608: 5\n",
      "Optimal threshold for document 14993: 5\n",
      "Optimal threshold for document 5219: 7\n",
      "Optimal threshold for document 4948: 5\n",
      "Optimal threshold for document 950: 7\n",
      "Optimal threshold for document 10797: 4\n",
      "Optimal threshold for document 9340: 8\n",
      "Optimal threshold for document 8993: 13\n",
      "Optimal threshold for document 6552: 12\n",
      "Optimal threshold for document 14089: 5\n",
      "Optimal threshold for document 12391: 7\n",
      "Optimal threshold for document 15429: 12\n",
      "Optimal threshold for document 14139: 9\n",
      "Optimal threshold for document 13253: 10\n",
      "Optimal threshold for document 11407: 7\n",
      "Optimal threshold for document 1062: 8\n",
      "Optimal threshold for document 13469: 10\n",
      "Optimal threshold for document 16519: 6\n",
      "Optimal threshold for document 2253: 11\n",
      "Optimal threshold for document 9676: 7\n",
      "Optimal threshold for document 138: 4\n",
      "Optimal threshold for document 780: 12\n",
      "Optimal threshold for document 6045: 5\n",
      "Optimal threshold for document 3590: 5\n",
      "Optimal threshold for document 10199: 3\n",
      "Optimal threshold for document 2715: 10\n",
      "Optimal threshold for document 3480: 6\n",
      "Optimal threshold for document 5266: 4\n",
      "Optimal threshold for document 12591: 6\n",
      "Optimal threshold for document 11869: 7\n",
      "Optimal threshold for document 8032: 8\n",
      "Optimal threshold for document 11579: 6\n",
      "Optimal threshold for document 16572: 5\n",
      "Optimal threshold for document 4186: 7\n",
      "Optimal threshold for document 8719: 6\n",
      "Optimal threshold for document 16190: 13\n",
      "Optimal threshold for document 14734: 6\n",
      "Optimal threshold for document 4471: 6\n",
      "Optimal threshold for document 7526: 7\n",
      "Optimal threshold for document 1986: 8\n",
      "Optimal threshold for document 12304: 5\n",
      "Optimal threshold for document 11323: 3\n",
      "Optimal threshold for document 2644: 8\n",
      "Optimal threshold for document 14117: 12\n",
      "Optimal threshold for document 9794: 5\n",
      "Optimal threshold for document 2192: 5\n",
      "Optimal threshold for document 16181: 4\n",
      "Optimal threshold for document 13959: 9\n",
      "Optimal threshold for document 10397: 7\n",
      "Optimal threshold for document 16890: 9\n",
      "Optimal threshold for document 16670: 3\n",
      "Optimal threshold for document 10342: 10\n",
      "Optimal threshold for document 6555: 10\n",
      "Optimal threshold for document 2743: 7\n",
      "Optimal threshold for document 16282: 7\n",
      "Optimal threshold for document 3773: 6\n",
      "Optimal threshold for document 13223: 5\n",
      "Optimal threshold for document 4559: 7\n",
      "Optimal threshold for document 14725: 8\n",
      "Optimal threshold for document 14704: 19\n",
      "Optimal threshold for document 3708: 7\n",
      "Optimal threshold for document 9359: 5\n",
      "Optimal threshold for document 8185: 9\n",
      "Optimal threshold for document 5700: 6\n",
      "Optimal threshold for document 1974: 9\n",
      "Optimal threshold for document 9872: 5\n",
      "Optimal threshold for document 14970: 6\n",
      "Optimal threshold for document 17211: 6\n",
      "Optimal threshold for document 6244: 5\n",
      "Optimal threshold for document 4434: 9\n",
      "Optimal threshold for document 1514: 7\n",
      "Optimal threshold for document 10921: 8\n",
      "Optimal threshold for document 15409: 9\n",
      "Optimal threshold for document 2686: 10\n",
      "Optimal threshold for document 11010: 7\n",
      "Optimal threshold for document 16025: 9\n",
      "Optimal threshold for document 13208: 13\n",
      "Optimal threshold for document 11110: 6\n",
      "Optimal threshold for document 11255: 10\n",
      "Optimal threshold for document 15352: 7\n",
      "Optimal threshold for document 2717: 7\n",
      "Optimal threshold for document 1794: 8\n",
      "Optimal threshold for document 13941: 11\n",
      "Optimal threshold for document 6794: 5\n",
      "Optimal threshold for document 4230: 5\n",
      "Optimal threshold for document 7707: 12\n",
      "Optimal threshold for document 2494: 8\n",
      "Optimal threshold for document 10853: 7\n",
      "Optimal threshold for document 9992: 8\n",
      "Optimal threshold for document 7012: 5\n",
      "Optimal threshold for document 11739: 5\n",
      "Optimal threshold for document 14504: 9\n",
      "Optimal threshold for document 13894: 4\n",
      "Optimal threshold for document 14150: 10\n",
      "Optimal threshold for document 16254: 5\n",
      "Optimal threshold for document 12147: 9\n",
      "Optimal threshold for document 221: 6\n",
      "Optimal threshold for document 1990: 8\n",
      "Optimal threshold for document 16289: 9\n",
      "Optimal threshold for document 9796: 2\n",
      "Optimal threshold for document 10267: 10\n",
      "Optimal threshold for document 12029: 2\n",
      "Optimal threshold for document 14335: 15\n",
      "Optimal threshold for document 17167: 9\n",
      "Optimal threshold for document 6424: 6\n",
      "Optimal threshold for document 887: 5\n",
      "Optimal threshold for document 14334: 6\n",
      "Optimal threshold for document 3813: 5\n",
      "Optimal threshold for document 15376: 15\n",
      "Optimal threshold for document 8174: 9\n",
      "Optimal threshold for document 11195: 5\n",
      "Optimal threshold for document 16816: 8\n",
      "Optimal threshold for document 7599: 9\n",
      "Optimal threshold for document 11827: 7\n",
      "Optimal threshold for document 6268: 5\n",
      "Optimal threshold for document 1606: 5\n",
      "Optimal threshold for document 1968: 7\n",
      "Optimal threshold for document 6303: 4\n",
      "Optimal threshold for document 2425: 2\n",
      "Optimal threshold for document 7320: 14\n",
      "Optimal threshold for document 174: 7\n",
      "Optimal threshold for document 3592: 10\n",
      "Optimal threshold for document 5465: 10\n",
      "Optimal threshold for document 15996: 10\n",
      "Optimal threshold for document 14265: 11\n",
      "Optimal threshold for document 7375: 11\n",
      "Optimal threshold for document 13325: 5\n",
      "Optimal threshold for document 12231: 5\n",
      "Optimal threshold for document 5628: 7\n",
      "Optimal threshold for document 7171: 10\n",
      "Optimal threshold for document 8562: 4\n",
      "Optimal threshold for document 17239: 5\n",
      "Optimal threshold for document 2167: 6\n",
      "Optimal threshold for document 4221: 6\n",
      "Optimal threshold for document 12531: 4\n",
      "Optimal threshold for document 14685: 7\n",
      "Optimal threshold for document 11942: 9\n",
      "Optimal threshold for document 14158: 10\n",
      "Optimal threshold for document 15076: 4\n",
      "Optimal threshold for document 1844: 5\n",
      "Optimal threshold for document 13364: 9\n",
      "Optimal threshold for document 9486: 5\n",
      "Optimal threshold for document 5033: 7\n",
      "Optimal threshold for document 4813: 5\n",
      "Optimal threshold for document 12260: 10\n",
      "Optimal threshold for document 14521: 12\n",
      "Optimal threshold for document 10549: 4\n",
      "Optimal threshold for document 7751: 6\n",
      "Optimal threshold for document 15366: 4\n",
      "Optimal threshold for document 15652: 14\n",
      "Optimal threshold for document 131: 4\n",
      "Optimal threshold for document 2884: 4\n",
      "Optimal threshold for document 10259: 17\n",
      "Optimal threshold for document 5009: 10\n",
      "Optimal threshold for document 1408: 4\n",
      "Optimal threshold for document 751: 3\n",
      "Optimal threshold for document 15204: 4\n",
      "Optimal threshold for document 14543: 9\n",
      "Optimal threshold for document 3854: 9\n",
      "Optimal threshold for document 14868: 13\n",
      "Optimal threshold for document 12141: 8\n",
      "Optimal threshold for document 691: 8\n",
      "Optimal threshold for document 15861: 5\n",
      "Optimal threshold for document 3766: 6\n",
      "Optimal threshold for document 1576: 6\n",
      "Optimal threshold for document 12237: 7\n",
      "Optimal threshold for document 761: 8\n",
      "Optimal threshold for document 2513: 4\n",
      "Optimal threshold for document 17199: 9\n",
      "Optimal threshold for document 3202: 14\n",
      "Optimal threshold for document 13352: 13\n",
      "Optimal threshold for document 7132: 11\n",
      "Optimal threshold for document 9029: 4\n",
      "Optimal threshold for document 11555: 11\n",
      "Optimal threshold for document 3967: 11\n",
      "Optimal threshold for document 2322: 7\n",
      "Optimal threshold for document 9415: 3\n",
      "Optimal threshold for document 14426: 6\n",
      "Optimal threshold for document 6459: 7\n",
      "Optimal threshold for document 3662: 7\n"
     ]
    }
   ],
   "source": [
    "optimal_thresholds = {}\n",
    "rouge1_fmeasure_scores = {}\n",
    "summary_texts = {}\n",
    "min_df_values_dict = {}\n",
    "for document_id in article_texts.keys():\n",
    "    best_rouge_score = 0\n",
    "    optimal_threshold = None\n",
    "    optimal_generated_text = None\n",
    "    optimal_min_df = None\n",
    "\n",
    "    for threshold in range(0, 20):  \n",
    "        min_df = find_min_df(document_id, threshold)\n",
    "        generated_text = greed_sum(article_texts[document_id], number_of_sentences_per_article[document_id],min_df) \n",
    "        reference_text = abstract_texts[document_id]  \n",
    "        \n",
    "        current_rouge_score = compute_rouge_score(generated_text, reference_text)\n",
    "        if current_rouge_score > best_rouge_score:\n",
    "            best_rouge_score = current_rouge_score\n",
    "            optimal_threshold = threshold\n",
    "            optimal_generated_text = generated_text\n",
    "            optimal_min_df = min_df\n",
    "    rouge1_fmeasure_scores[document_id] = best_rouge_score\n",
    "    min_df_values_dict[document_id] = optimal_min_df\n",
    "    summary_texts[document_id] = optimal_generated_text\n",
    "    \n",
    "    optimal_thresholds[document_id] = optimal_threshold\n",
    "    print(f\"Optimal threshold for document {document_id}: {optimal_threshold}\")"
   ]
  },
  {
   "cell_type": "markdown",
   "id": "1e332dee-e2d2-4034-b86b-fb5601571200",
   "metadata": {},
   "source": [
    "### Example of calculating the ROUGE score for document 4741"
   ]
  },
  {
   "cell_type": "code",
   "execution_count": 14,
   "id": "f31f8304-f443-43a7-8d74-3676012ff0b3",
   "metadata": {
    "execution": {
     "iopub.execute_input": "2024-03-19T12:05:22.571834Z",
     "iopub.status.busy": "2024-03-19T12:05:22.571723Z",
     "iopub.status.idle": "2024-03-19T12:05:22.575784Z",
     "shell.execute_reply": "2024-03-19T12:05:22.575172Z",
     "shell.execute_reply.started": "2024-03-19T12:05:22.571820Z"
    }
   },
   "outputs": [
    {
     "data": {
      "text/plain": [
       "['thanks to 3d - ptv , we have access to the vorticity vector , and studied its dynamics in rotating turbulence . for the non - rotating case , this kind of particle tracking studies has been pursued several years ago  @xcite , and rotating ptv experiments quantified the transition from 3d to q2d large - scale dynamics  @xcite . but laboratory experiments aimed at exploring the influence of system rotation on the dynamics of the small scales and in particular of the vorticity vector have not yet been reported and are the main topics of the present paper . in the context of the existing literature , the latter studies on the lagrangian statistics of velocities and accelerations of passive tracers , and the present work reported here on the geometrical statistics of the vorticity and the strain rate tensor in rotating turbulence are based on experiments resembling the ones performed in closed non - shallow containers , and with continuous forcing applied locally in space ( see , e.g. , refs .',\n",
       " 'a range of flow scales is forced by using two differently sized magnets : @xmath73 and @xmath74  @xcite .',\n",
       " 'pmma ( poly methyl methacrylate ) particles ( diameter @xmath78 ; density @xmath79 ) are used as tracers .',\n",
       " 'up to 2500 particles per time ',\n",
       " 'the more pronounced alignment between @xmath55 and @xmath120 for high @xmath0 is understood in terms of their mutual alignment with the vertical direction ( parallel with @xmath121 ) .',\n",
       " 'first , it is curious to note that , for zero background rotation , the flow is characterised by a slight tendency of horizontal alignment of the third eigenvector ( @xmath119 ) .',\n",
       " 'this could be interpreted in view of the geometrical constraint of the flow in our experiment , which results from the aspect ratio of the fluid container @xmath126 .',\n",
       " 'fluids 10 ( 1998 ) , pp . 28952909 .',\n",
       " '. m. kholmyansky , a. tsinober , and s. yorish , _ velocity derivatives in the atmospheric turbulent flow at @xmath131 _ , phys .',\n",
       " 'manin , _ an advanced experimental investigation of quasi - two - dimensional shear flows _ , j. fluid mech .']"
      ]
     },
     "execution_count": 14,
     "metadata": {},
     "output_type": "execute_result"
    }
   ],
   "source": [
    "summary_texts[4741]"
   ]
  },
  {
   "cell_type": "code",
   "execution_count": 15,
   "id": "24f27acf-2089-436a-aa33-77ee05bfbfbb",
   "metadata": {
    "execution": {
     "iopub.execute_input": "2024-03-19T12:05:22.576436Z",
     "iopub.status.busy": "2024-03-19T12:05:22.576332Z",
     "iopub.status.idle": "2024-03-19T12:05:22.579475Z",
     "shell.execute_reply": "2024-03-19T12:05:22.579130Z",
     "shell.execute_reply.started": "2024-03-19T12:05:22.576423Z"
    }
   },
   "outputs": [
    {
     "data": {
      "text/plain": [
       "['we report results on the geometrical statistics of the vorticity vector obtained from experiments in electromagnetically forced rotating turbulence .',\n",
       " 'a range of rotation rates @xmath0 is considered , from non - rotating to rapidly rotating turbulence with a maximum background rotation rate of @xmath1 rad / s ( with rossby number much smaller than unity ) . typically , the taylor - scale reynolds number in our experiments is around @xmath2 .',\n",
       " 'the measurement volume is located in the centre of the fluid container above the bottom boundary layer , where the turbulent flow can be considered locally statistically isotropic and horizontally homogeneous for the non - rotating case , see van bokhoven _ et al .',\n",
       " '_ , _ phys .',\n",
       " 'fluids _ * 21 * , 096601 ( 2009 ) . based on the full set of velocity derivatives , measured in a lagrangian way by 3d particle tracking velocimetry',\n",
       " ', we have been able to quantify statistically the effect of system rotation on several flow properties . for the range of rotation rates considered ,',\n",
       " 'the experimental results show how the turbulence evolves from almost isotropic 3d turbulence ( @xmath3 rad / s ) to quasi-2d turbulence ( @xmath4 rad / s ) and how this is reflected by several statistical quantities .',\n",
       " 'in particular , we have studied the orientation of the vorticity vector with respect to the three eigenvectors of the local strain rate tensor and with respect to the vortex stretching vector .',\n",
       " 'additionally , we have quantified the role of system rotation on the self - amplification terms of the enstrophy and strain rate equations and the direct contribution of the background rotation on these evolution equations .',\n",
       " 'the main effect of background rotation is the strong reduction of extreme events and related ( strong ) reduction of the skewness of pdfs of several quantities such as , for example , the intermediate eigenvalue of the strain rate tensor and the enstrophy self - amplification term .   ',\n",
       " 'experiment ; turbulence ; rotation ; vorticity ; strain']"
      ]
     },
     "execution_count": 15,
     "metadata": {},
     "output_type": "execute_result"
    }
   ],
   "source": [
    "abstract_texts[4741]"
   ]
  },
  {
   "cell_type": "code",
   "execution_count": 16,
   "id": "9f51efb6-3cc2-42a3-8af2-e17d1ca05c94",
   "metadata": {
    "execution": {
     "iopub.execute_input": "2024-03-19T12:05:22.580266Z",
     "iopub.status.busy": "2024-03-19T12:05:22.580168Z",
     "iopub.status.idle": "2024-03-19T12:05:22.609085Z",
     "shell.execute_reply": "2024-03-19T12:05:22.608686Z",
     "shell.execute_reply.started": "2024-03-19T12:05:22.580253Z"
    }
   },
   "outputs": [
    {
     "data": {
      "text/plain": [
       "0.504983388704319"
      ]
     },
     "execution_count": 16,
     "metadata": {},
     "output_type": "execute_result"
    }
   ],
   "source": [
    "compute_rouge_score(summary_texts[4741],abstract_texts[4741])"
   ]
  },
  {
   "cell_type": "code",
   "execution_count": 17,
   "id": "e3f9edf3-6803-4104-a83f-8f9bda855bf8",
   "metadata": {
    "execution": {
     "iopub.execute_input": "2024-03-19T12:05:22.609712Z",
     "iopub.status.busy": "2024-03-19T12:05:22.609612Z",
     "iopub.status.idle": "2024-03-19T12:05:22.612501Z",
     "shell.execute_reply": "2024-03-19T12:05:22.612131Z",
     "shell.execute_reply.started": "2024-03-19T12:05:22.609700Z"
    }
   },
   "outputs": [
    {
     "name": "stdout",
     "output_type": "stream",
     "text": [
      "0.49180070129096204\n"
     ]
    }
   ],
   "source": [
    "rouge1_fmeasure_scores.values()\n",
    "rouge1_fmeasure_scores = list(rouge1_fmeasure_scores.values())\n",
    "mean_rouge1_fmeasure =np.mean(rouge1_fmeasure_scores)\n",
    "print(mean_rouge1_fmeasure)"
   ]
  },
  {
   "cell_type": "code",
   "execution_count": 18,
   "id": "2e6723a2-036d-490b-b932-b133667f0e24",
   "metadata": {
    "execution": {
     "iopub.execute_input": "2024-03-19T12:05:22.613189Z",
     "iopub.status.busy": "2024-03-19T12:05:22.613094Z",
     "iopub.status.idle": "2024-03-19T12:05:22.615460Z",
     "shell.execute_reply": "2024-03-19T12:05:22.615006Z",
     "shell.execute_reply.started": "2024-03-19T12:05:22.613177Z"
    }
   },
   "outputs": [],
   "source": [
    "#min_word_count = np.min(list(dict_id_words_counts.values().values()))\n",
    "# Assuming dict_id_words_counts is your nested dictionary where each key maps to another dictionary\n",
    "# Example structure: dict_id_words_counts = {'doc1': {'word1': 4, 'word2': 5}, 'doc2': {'word3': 3, 'word4': 2}}\n",
    "# Extract all word counts from each inner dictionary\n",
    "#word_counts = [count for inner_dict in dict_id_words_counts.values() for count in inner_dict.values()]\n",
    "#min_word_count = np.max(word_counts)\n",
    "#print(min_word_count)"
   ]
  },
  {
   "cell_type": "markdown",
   "id": "92c7b4d1-a195-47e5-a5f8-e7b0785ff502",
   "metadata": {},
   "source": [
    "***Here is the optimal thresholds stats for the Results part of the paper***"
   ]
  },
  {
   "cell_type": "code",
   "execution_count": 19,
   "id": "250d4e98-8e4b-4db1-bb3b-7467fb08ecd3",
   "metadata": {
    "execution": {
     "iopub.execute_input": "2024-03-19T12:05:22.616077Z",
     "iopub.status.busy": "2024-03-19T12:05:22.615977Z",
     "iopub.status.idle": "2024-03-19T12:05:22.728698Z",
     "shell.execute_reply": "2024-03-19T12:05:22.728311Z",
     "shell.execute_reply.started": "2024-03-19T12:05:22.616065Z"
    }
   },
   "outputs": [
    {
     "data": {
      "image/png": "[encoded data removed]",
      "text/plain": [
       "<Figure size 1000x600 with 1 Axes>"
      ]
     },
     "metadata": {},
     "output_type": "display_data"
    }
   ],
   "source": [
    "optimal_thresholds_list = list(optimal_thresholds.values())\n",
    "max_value = max(optimal_thresholds_list)\n",
    "min_value = min(optimal_thresholds_list)\n",
    "bins = range(min_value, max_value + 2)  # +2 ensures the last bin includes the max value\n",
    "plt.figure(figsize=(10, 6))\n",
    "plt.hist(optimal_thresholds_list, bins=bins, align='left', rwidth=0.8)  # align='left' centers the bars over the integers\n",
    "plt.xlabel('Optimal Thresholds')\n",
    "plt.ylabel('Frequency')\n",
    "#plt.title('Histogram ')\n",
    "plt.grid(True)  # Optional: Adds a grid for easier reading\n",
    "plt.show()"
   ]
  },
  {
   "cell_type": "code",
   "execution_count": 20,
   "id": "68875aa3-df57-48ce-9610-cf3901d98365",
   "metadata": {
    "execution": {
     "iopub.execute_input": "2024-03-19T12:05:22.729338Z",
     "iopub.status.busy": "2024-03-19T12:05:22.729234Z",
     "iopub.status.idle": "2024-03-19T12:05:22.807291Z",
     "shell.execute_reply": "2024-03-19T12:05:22.806910Z",
     "shell.execute_reply.started": "2024-03-19T12:05:22.729325Z"
    }
   },
   "outputs": [
    {
     "data": {
      "image/png": "[encoded data removed]",
      "text/plain": [
       "<Figure size 1000x600 with 1 Axes>"
      ]
     },
     "metadata": {},
     "output_type": "display_data"
    }
   ],
   "source": [
    "data_series = pd.Series(optimal_thresholds_list)\n",
    "\n",
    "# Create and display the boxplot\n",
    "plt.figure(figsize=(10, 6))\n",
    "data_series.plot(kind='box')\n",
    "plt.title('Boxplot of Data')\n",
    "plt.ylabel('Values')\n",
    "plt.show()"
   ]
  },
  {
   "cell_type": "markdown",
   "id": "d13fd9ea-2b44-4ec4-a814-0ece029e5c25",
   "metadata": {},
   "source": [
    "***Describing relationship between ROUGE scores and min_df values***"
   ]
  },
  {
   "cell_type": "code",
   "execution_count": 25,
   "id": "e3fb136f-c5a0-47e1-aae1-1a1e9093fca6",
   "metadata": {
    "execution": {
     "iopub.execute_input": "2024-03-19T12:11:53.787121Z",
     "iopub.status.busy": "2024-03-19T12:11:53.786679Z",
     "iopub.status.idle": "2024-03-19T12:11:53.889570Z",
     "shell.execute_reply": "2024-03-19T12:11:53.888966Z",
     "shell.execute_reply.started": "2024-03-19T12:11:53.787101Z"
    }
   },
   "outputs": [
    {
     "name": "stdout",
     "output_type": "stream",
     "text": [
      "Correlation Coefficient: -0.08796249394935961\n"
     ]
    },
    {
     "data": {
      "image/png": "[encoded data removed]",
      "text/plain": [
       "<Figure size 1000x600 with 1 Axes>"
      ]
     },
     "metadata": {},
     "output_type": "display_data"
    }
   ],
   "source": [
    "min_df_values = []\n",
    "for value in min_df_values_dict.values():\n",
    "    min_df_values.append(value)\n",
    "\n",
    "correlation_coefficient = np.corrcoef(rouge1_fmeasure_scores, min_df_values)[0, 1]\n",
    "print(\"Correlation Coefficient:\", correlation_coefficient)\n",
    "\n",
    "plt.figure(figsize=(10, 6))\n",
    "plt.scatter(min_df_values, rouge1_fmeasure_scores, color='blue', alpha=0.7)\n",
    "plt.title('Scatter Plot of Two Variables')\n",
    "plt.xlabel('Min_df values')\n",
    "plt.ylabel('ROUGE1 F-measure scores')\n",
    "plt.show()"
   ]
  },
  {
   "cell_type": "markdown",
   "id": "06e33d67-4b5b-4342-88ec-b8b90e9258ae",
   "metadata": {},
   "source": [
    "**Distribution of ROUGE scores**"
   ]
  },
  {
   "cell_type": "code",
   "execution_count": 26,
   "id": "ea9c5b67-1546-4b6f-bae9-dc5285487296",
   "metadata": {
    "execution": {
     "iopub.execute_input": "2024-03-19T12:12:08.529851Z",
     "iopub.status.busy": "2024-03-19T12:12:08.529331Z",
     "iopub.status.idle": "2024-03-19T12:12:08.642750Z",
     "shell.execute_reply": "2024-03-19T12:12:08.642203Z",
     "shell.execute_reply.started": "2024-03-19T12:12:08.529831Z"
    }
   },
   "outputs": [
    {
     "data": {
      "image/png": "[encoded data removed]",
      "text/plain": [
       "<Figure size 640x480 with 1 Axes>"
      ]
     },
     "metadata": {},
     "output_type": "display_data"
    },
    {
     "name": "stdout",
     "output_type": "stream",
     "text": [
      "0.49180070129096204\n"
     ]
    }
   ],
   "source": [
    "plt.hist(rouge1_fmeasure_scores, bins=20, alpha=0.5)\n",
    "plt.xlabel('ROUGE-1 F-measure scores')\n",
    "plt.ylabel('Frequency')\n",
    "plt.show()\n",
    "print(np.mean(rouge1_fmeasure_scores))"
   ]
  }
 ],
 "metadata": {
  "kernelspec": {
   "display_name": "Python (shaken)",
   "language": "python",
   "name": "shaken"
  },
  "language_info": {
   "codemirror_mode": {
    "name": "ipython",
    "version": 3
   },
   "file_extension": ".py",
   "mimetype": "text/x-python",
   "name": "python",
   "nbconvert_exporter": "python",
   "pygments_lexer": "ipython3",
   "version": "3.7.13"
  }
 },
 "nbformat": 4,
 "nbformat_minor": 5
}
